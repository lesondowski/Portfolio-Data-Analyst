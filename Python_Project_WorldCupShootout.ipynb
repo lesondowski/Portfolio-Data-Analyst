{
 "cells": [
  {
   "cell_type": "markdown",
   "metadata": {},
   "source": [
    "xử lý dữ liệu bị trùng"
   ]
  },
  {
   "cell_type": "code",
   "execution_count": null,
   "metadata": {},
   "outputs": [],
   "source": [
    "import numpy as np # linear algebra\n",
    "import pandas as pd # data processing, CSV file I/O (e.g. pd.read_csv)\n",
    "import matplotlib.pyplot as plt\n",
    "import seaborn as sns\n",
    "\n",
    "df = pd.read_csv('./WorldCupShootouts.csv')\n",
    "check_loop = df.duplicated()\n",
    "print(df[check_loop])\n"
   ]
  },
  {
   "cell_type": "code",
   "execution_count": null,
   "metadata": {},
   "outputs": [],
   "source": [
    "import numpy as np # linear algebra\n",
    "import pandas as pd # data processing, CSV file I/O (e.g. pd.read_csv)\n",
    "import matplotlib.pyplot as plt\n",
    "import seaborn as sns\n",
    "df = pd.read_csv('./WorldCupShootouts.csv')\n",
    "print(df.describe())"
   ]
  },
  {
   "cell_type": "markdown",
   "metadata": {},
   "source": [
    "xử lý dữ liệu bị thiếu"
   ]
  },
  {
   "cell_type": "code",
   "execution_count": null,
   "metadata": {},
   "outputs": [],
   "source": [
    "import pandas as pd\n",
    "df = pd.read_csv('./WorldCupShootouts.csv')\n",
    "print(\"Số lượng giá trị bị thiếu trong cột :\")\n",
    "print(df.isnull().sum())\n",
    "print(df)"
   ]
  },
  {
   "cell_type": "code",
   "execution_count": null,
   "metadata": {},
   "outputs": [],
   "source": [
    "import pandas as pd\n",
    "import matplotlib.pyplot as plt\n",
    "df = pd.read_csv('./WorldCupShootouts.csv')\n",
    "column_name = 'Keeper'\n",
    "value_counts = df[column_name].value_counts()\n",
    "value_counts = value_counts.sort_values(ascending=False)\n",
    "plt.figure(figsize=(5,5))\n",
    "# Vẽ biểu đồ \n",
    "plt.bar(value_counts.index, value_counts.values)\n",
    "plt.xlabel(column_name)\n",
    "plt.ylabel('Số lượng')\n",
    "plt.show()\n",
    "\n"
   ]
  },
  {
   "cell_type": "code",
   "execution_count": null,
   "metadata": {},
   "outputs": [],
   "source": [
    "import numpy as np\n",
    "import pandas as pd\n",
    "import matplotlib.pyplot as plt\n",
    "df = pd.read_csv('./WorldCupShootouts.csv')\n",
    "var1 = df['Zone']\n",
    "var2 = df['Penalty_Number']\n",
    "var3 = df['OnTarget']\n",
    "correlation_matrix = np.corrcoef([var1, var2, var3])\n",
    "plt.imshow(correlation_matrix, cmap='coolwarm', interpolation='nearest')\n",
    "plt.colorbar()\n",
    "plt.xticks(np.arange(3), ['Zone', 'Penalty_Number', 'OnTarget'])\n",
    "plt.yticks(np.arange(3), ['Zone', 'Penalty_Number', 'OnTarget'])\n",
    "plt.title('Ma trận tương quan')\n",
    "plt.show()"
   ]
  },
  {
   "cell_type": "markdown",
   "metadata": {},
   "source": [
    "chuẩn hóa dữ liệu"
   ]
  },
  {
   "cell_type": "code",
   "execution_count": null,
   "metadata": {},
   "outputs": [],
   "source": [
    "from sklearn.preprocessing import MinMaxScaler\n",
    "import csv\n",
    "\n",
    "def normalize_and_save_data(input_file_path, output_file_path): # hàm chuẩn hóa dữ liệu\n",
    "    with open(input_file_path, 'r') as file:\n",
    "        reader = csv.reader(file)\n",
    "        header = next(reader) \n",
    "        data = []\n",
    "        for row in reader:\n",
    "            game_id = int(row[0])\n",
    "            team = row[1]\n",
    "            zone = int(row[2])\n",
    "            foot = row[3]\n",
    "            keeper = row[4]\n",
    "            on_target = int(row[5])\n",
    "            goal = int(row[6])\n",
    "            penalty_number = int(row[7])\n",
    "            elimination = int(row[8])\n",
    "\n",
    "            data.append([game_id, zone, on_target, goal, penalty_number, elimination])\n",
    "\n",
    "    scaler = MinMaxScaler()\n",
    "    normalized_data = scaler.fit_transform(data)\n",
    "\n",
    "    with open(output_file_path, 'w', newline='') as file:\n",
    "        writer = csv.writer(file)\n",
    "        writer.writerow(header)  # Ghi tiêu đề cột\n",
    "\n",
    "        for i in range(len(normalized_data)):\n",
    "            row_data = normalized_data[i]\n",
    "            writer.writerow([data[i][0]] + row_data.tolist())  # Ghi game_id và dữ liệu chuẩn hóa\n",
    "\n",
    "    print(\"Dữ liệu đã được chuẩn hóa và ghi vào file:\", output_file_path)\n",
    "\n",
    "input_file_path = 'WorldCupShootouts.csv'\n",
    "output_file_path = 'NormalizedWorldCupShootouts.csv'\n",
    "\n",
    "normalize_and_save_data(input_file_path, output_file_path)"
   ]
  },
  {
   "cell_type": "markdown",
   "metadata": {},
   "source": [
    "chuẩn hóa dữ liệu để sử dụng cho cây nhị phân"
   ]
  },
  {
   "cell_type": "code",
   "execution_count": 20,
   "metadata": {},
   "outputs": [],
   "source": [
    "import pandas as pd\n",
    "from sklearn.preprocessing import StandardScaler\n",
    "data = pd.read_csv('WorldCupShootouts.csv')\n",
    "columns_to_scale = ['Zone', 'OnTarget', 'Goal']# Lấy cột \n",
    "scaler = StandardScaler()\n",
    "scaled_data = scaler.fit_transform(data[columns_to_scale])\n",
    "scaled_df = pd.DataFrame(scaled_data, columns=columns_to_scale)\n",
    "data[columns_to_scale] = scaled_df\n",
    "data.to_csv('WorldCupShootouts_scaled.csv', index=False)"
   ]
  },
  {
   "cell_type": "markdown",
   "metadata": {},
   "source": [
    "thống kê mô tả"
   ]
  },
  {
   "cell_type": "code",
   "execution_count": null,
   "metadata": {},
   "outputs": [],
   "source": [
    "import pandas as pd\n",
    "import matplotlib.pyplot as plt\n",
    "data = pd.read_csv(\"./WorldCupShootouts_scaled.csv\")\n",
    "numeric_columns = data.select_dtypes(include=[float, int]).columns\n",
    "numeric_data = data[numeric_columns]\n",
    "print(numeric_data.describe())\n",
    "correlation = numeric_data.corr()\n",
    "plt.figure(figsize=(5, 5))\n",
    "plt.imshow(correlation, cmap='coolwarm', interpolation='none')\n",
    "plt.colorbar()\n",
    "plt.xticks(range(len(correlation)), correlation.columns, rotation=90)\n",
    "plt.yticks(range(len(correlation)), correlation.columns)\n",
    "plt.title('Ma trận tương quan giữa các biến')\n",
    "plt.show()\n",
    "\n",
    "\n",
    "\n",
    "\n"
   ]
  },
  {
   "cell_type": "code",
   "execution_count": null,
   "metadata": {},
   "outputs": [],
   "source": [
    "import pandas as pd\n",
    "import matplotlib.pyplot as plt\n",
    "import seaborn as sns\n",
    "df = pd.read_csv('WorldCupShootouts.csv')\n",
    "nc = df.select_dtypes(include=[float,int]).columns\n",
    "df_new = df[nc]\n",
    "corr_matrix = df_new.corr()\n",
    "sns.set()\n",
    "fig, ax = plt.subplots(figsize=(10, 5))\n",
    "sns.heatmap(corr_matrix, annot=True)\n",
    "ax.set_xticklabels(ax.get_xticklabels(), rotation=90)\n",
    "plt.show()\n"
   ]
  },
  {
   "cell_type": "markdown",
   "metadata": {},
   "source": [
    "thực hiện thuật toán random\n",
    "\n",
    "trả lời cho câu hỏi, những yếu tố nào ảnh hưởng tới khả năng ghi bàn của một cầu thủ"
   ]
  },
  {
   "cell_type": "code",
   "execution_count": null,
   "metadata": {},
   "outputs": [],
   "source": [
    "import pandas as pd\n",
    "from sklearn.linear_model import LogisticRegression \n",
    "from sklearn.ensemble import RandomForestClassifier\n",
    "from sklearn.model_selection import train_test_split\n",
    "from sklearn.metrics import accuracy_score\n",
    "from sklearn.metrics import classification_report\n",
    "data = pd.read_csv('./NormalizedWorldCupShootouts.csv')\n",
    "feature = data[['Zone','Foot','Keeper','OnTarget']]\n",
    "labels = data['Goal'] \n",
    "X_train, X_test, y_train, y_test =  train_test_split(feature, labels, test_size=0.2, random_state=10)\n",
    "\n",
    "rf1 = RandomForestClassifier()\n",
    "rf1.fit(X_train, y_train)\n",
    "pred = rf1.predict(X_test)\n",
    "accuracy1= accuracy_score(y_test,pred)\n",
    "print(\"độ chính xác của randomforest: \",accuracy1)\n",
    "\n",
    "\n",
    "rf = LogisticRegression()\n",
    "rf.fit(X_train,y_train)\n",
    "preditions = rf.predict(X_test)\n",
    "accuracy = accuracy_score(y_test,preditions)\n",
    "print(\"độ chính xác logistic regresstion  : \",accuracy)\n",
    "\n",
    "print(\"đánh giá report: \")\n",
    "print(\"kết quả logistic regresstion: \") \n",
    "print(classification_report(y_test,preditions))\n",
    "print(\"kết quả random forest : \")\n",
    "print(classification_report(y_test,pred))\n"
   ]
  }
 ],
 "metadata": {
  "kernelspec": {
   "display_name": "Python 3 (ipykernel)",
   "language": "python",
   "name": "python3"
  },
  "language_info": {
   "codemirror_mode": {
    "name": "ipython",
    "version": 3
   },
   "file_extension": ".py",
   "mimetype": "text/x-python",
   "name": "python",
   "nbconvert_exporter": "python",
   "pygments_lexer": "ipython3",
   "version": "3.11.4"
  }
 },
 "nbformat": 4,
 "nbformat_minor": 4
}
